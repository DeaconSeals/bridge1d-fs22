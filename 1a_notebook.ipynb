{
 "cells": [
  {
   "cell_type": "markdown",
   "metadata": {},
   "source": [
    "# Assignment 1a Notebook\n",
    "This notebook will provide a series of tasks to guide you through the implementation of a random search algorithm. Conveniently, random search is often functionally equivalent to the random initialization step performed at the beginning of an evolutionary algorithm (EA). With that in mind, we'll try to structure this assignment so you can reuse your code throughout the course as you implement EA.\n",
    "\n",
    "Start by evaluating the next cell to configure the notebook. If this is your first time using a Jupyter notebook, you can press `shift+enter` to execute the Python code in a selected cell."
   ]
  },
  {
   "cell_type": "code",
   "execution_count": null,
   "metadata": {},
   "outputs": [],
   "source": [
    "# Configure this notebook to automatically reload modules as they're modified\n",
    "# https://stackoverflow.com/questions/1907993/autoreload-of-modules-in-ipython\n",
    "%load_ext autoreload\n",
    "%autoreload 2\n",
    "\n",
    "import matplotlib.pyplot as plt\n",
    "\n",
    "%matplotlib inline\n",
    "plt.rcParams['figure.figsize'] = (16.0, 4.0) # set default size of plots\n",
    "plt.rcParams['image.interpolation'] = 'nearest'\n",
    "\n",
    "print('The first cell has been executed!')"
   ]
  },
  {
   "cell_type": "markdown",
   "metadata": {},
   "source": [
    "## Fitness Function\n",
    "This semester we'll be exploring multiple problem domains where it may be appropriate to apply evolutionary computing. There will be two assignment series in which you will autonomously design bridges and evolve agents to play a simplified version of Ms. Pac-Man, respectively. In assignment series 1 (what you're doing now), your goal is to search for bridge designs that satisfy problem constraints in a physics simulation. To make this assignment more about your ability to understand and implement search algorithms, we're providing you with an implementation of the physics simulation and problem instances. The files `bridge_fitness.py` and `frame.py` implement the problem, and you are free to treat them as a black box. You won't have to understand or modify the code in those files, though you do need to understand the problem.\n",
    "\n",
    "You will interact with this implementation by using a function `basic_simulation()` that takes as input a list of (x, y) coordinate pairs along with an assortment of problem-instance parameters. The list of (x, y) pairs you provide corresponds to joints within your bridge that are automatically connected to one another based on proximity. So, if the instance-specific parameter for this proximity is set to 3 m, then any points within 3 m of one another will be connected with a beam of some specific material and construction (e.g., a solid carbon fiber beam with a square cross-section). The problem instance also provides anchor points on the ground as points within a connected roadbed. Within the simulation, weight is increasingly applied and the bridge is scored by the weight at which it fails. This means that a stronger bridge will receive a higher score. The mechanics of this problem are not unlike those in the [Bridge Constructor](https://en.wikipedia.org/wiki/Bridge_Constructor) game franchise or [World of Goo](https://en.wikipedia.org/wiki/World_of_Goo).\n",
    "\n",
    "The other important function we provide is `plot_bridge()`, which visualizes the relative forces acting on a bridge. The following cell will evaluate a hand-designed bridge and produce a score as described above, to show how these two functions work:"
   ]
  },
  {
   "cell_type": "code",
   "execution_count": null,
   "metadata": {
    "scrolled": false
   },
   "outputs": [],
   "source": [
    "import json\n",
    "from bridge_fitness import basic_simulation, plot_bridge\n",
    "\n",
    "with open('configs/green1a_problem.json') as file:\n",
    "    problem_instance = json.load(file)\n",
    "\n",
    "bridge_points = [(10, 7), (20, 7), (30, 7), (40, 7), (50, 7), (60, 7), (70, 7), \n",
    "                   (80, 7), (90, 7), (100, 7), (110, 7), (120, 7), (130, 7), (140, 7)]\n",
    "\n",
    "# Note: don't worry if this next line is confusing; we'll discuss it momentarily\n",
    "score, bridge = basic_simulation(bridge_points, **problem_instance) \n",
    "\n",
    "print(f\"The bridge failed at a force of {score:,} N and receives a score of {score:,}.\")\n",
    "print('The following shows the structure of the bridge and the forces experienced during simulation.')\n",
    "\n",
    "plot_bridge(bridge)\n",
    "\n",
    "# to prevent haphazard copypasta and global scope abuse\n",
    "del problem_instance, bridge_points, score, bridge"
   ]
  },
  {
   "cell_type": "markdown",
   "metadata": {},
   "source": [
    "### Aside: Keyword Parameter unpacking\n",
    "Note that the above cell extracted parameters for the problem instance from a JSON file. These parameters represent the specific design problem we want to solve. Dictionary unpacking is an intermediate-level Python technique that we'll make extensive use of throughout the course. The following cell contains an example of a function that takes arbitrary keyword arguments (`**kwargs`) that are stored in a dictionary (named `kwargs`).\n",
    "\n",
    "Execute the following cell for a brief demo of how to accept arbitrary named arguments and unpack named arguments from a dictionary. If you find yourself confused by this example or just want to read more, see [here](https://realpython.com/python-kwargs-and-args/)."
   ]
  },
  {
   "cell_type": "code",
   "execution_count": null,
   "metadata": {},
   "outputs": [],
   "source": [
    "def an_example_kwargs_function(**kwargs):\n",
    "    print(kwargs)\n",
    "    for key in kwargs:\n",
    "        print(f'I got the key value pair {key}:{kwargs[key]}')\n",
    "\n",
    "print('Example 1: direct named arguments')\n",
    "an_example_kwargs_function(crossoverPoints=5, someOtherArguments='this is a string!')\n",
    "\n",
    "print('\\nExample 2: using unpacking')\n",
    "packed_kwargs = {'crossoverPoints': 5, 'someOtherArguments': 'this is a string!'}\n",
    "an_example_kwargs_function(**packed_kwargs)\n",
    "\n",
    "print('\\nExample 3: unpacking the problem instance parameters')\n",
    "with open('configs/green1a_problem.json') as file:\n",
    "    problem_instance = json.load(file)\n",
    "an_example_kwargs_function(**problem_instance)\n",
    "\n",
    "del packed_kwargs, problem_instance"
   ]
  },
  {
   "cell_type": "markdown",
   "metadata": {},
   "source": [
    "## Random Initialization\n",
    "Note that the representation of the bridge accepted by the simulation function is a little peculiar. In EA terms we call this a fixed-length string (not to be confused with a character string) and it's a classical representation EAs work well with. This is synomymous with a fixed-length linear genotype. Fixed-length refers to the fact that there are a predefined number of loci (locations for genes), and linear simply means it is a 1-dimensional vector. We've provided a partially-complete class (`LinearGenotype`) for this representation. \n",
    "\n",
    "For your first task, implement the `random_initialization()` method of this class (found in the `linear_genotype.py` file) to get the following cell to work. This function accepts inputs for list length, x bounds, and y bounds and should uniform randomly create a list of (x, y) tuples that adhere to the provided bounds and the specified length of the list. This function should store this list in the `gene` member variable of the calling object (`self`). Note that these coordinates must be generated as floating-point (real) values, NOT integers. *You can ignore the other methods of the `LinearGenotype` class until Assignment 1b.*"
   ]
  },
  {
   "cell_type": "code",
   "execution_count": null,
   "metadata": {},
   "outputs": [],
   "source": [
    "from linear_genotype import LinearGenotype\n",
    "\n",
    "genotype_length = 30\n",
    "genotype_x_bounds = [0, 150]\n",
    "genotype_y_bounds = [-20, 20]\n",
    "\n",
    "test_solution = LinearGenotype()\n",
    "# We want this function to work!\n",
    "test_solution.random_initialization(length=genotype_length, x_bounds=genotype_x_bounds, y_bounds=genotype_y_bounds)\n",
    "\n",
    "# The following attempts to validate your implementation\n",
    "print(f'The function did something? {test_solution.gene is not None}')\n",
    "print(f'Was the solution the right length? {len(test_solution.gene) == genotype_length}')\n",
    "print(f'Is each element in the list a tuple? {len([True for i in test_solution.gene if isinstance(i, tuple)]) == genotype_length}')\n",
    "print(f'Is each element of each tuple a float? {len([True for x, y in test_solution.gene if isinstance(x, float) and isinstance(y, float)]) == genotype_length}')\n",
    "\n",
    "def check_bound(value, low, high):\n",
    "    return value >= low and value <= high\n",
    "out_of_bounds = [True for x, y in test_solution.gene if not (check_bound(x, *genotype_x_bounds) and check_bound(y, *genotype_y_bounds))]\n",
    "print(f'Did the solution adhere to the bounds? {len(out_of_bounds) == 0}')\n",
    "\n",
    "another_solution = LinearGenotype()\n",
    "another_solution.random_initialization(length=genotype_length, x_bounds=genotype_x_bounds, y_bounds=genotype_y_bounds)\n",
    "\n",
    "# This has a very small chance of failing for correct implementations\n",
    "print(f'Was initialization actually random? {another_solution.gene != test_solution.gene}')\n",
    "\n",
    "print('The solution bridge looks like this:')\n",
    "\n",
    "with open('configs/green1a_problem.json') as file:\n",
    "    problem_instance = json.load(file)\n",
    "_, bridge = basic_simulation(test_solution.gene, **problem_instance) \n",
    "plot_bridge(bridge)\n",
    "\n",
    "del genotype_length, genotype_x_bounds, genotype_y_bounds, test_solution, out_of_bounds, another_solution, problem_instance, bridge"
   ]
  },
  {
   "cell_type": "code",
   "execution_count": null,
   "metadata": {},
   "outputs": [],
   "source": [
    "# Now let's evaluate a random solution and assign them a fitness and a bridge object (for visualization)\n",
    "genotype_length = 30\n",
    "genotype_x_bounds = [0, 150]\n",
    "genotype_y_bounds = [-20, 20]\n",
    "\n",
    "test_solution = LinearGenotype()\n",
    "test_solution.random_initialization(length=genotype_length, x_bounds=genotype_x_bounds, y_bounds=genotype_y_bounds)\n",
    "\n",
    "with open('configs/green1a_problem.json') as file:\n",
    "    problem_instance = json.load(file)\n",
    "test_solution.fitness, test_solution.bridge = basic_simulation(test_solution.gene, **problem_instance) \n",
    "\n",
    "print(f'The fitness of the solution is {test_solution.fitness:,}')\n",
    "plot_bridge(test_solution.bridge)\n",
    "\n",
    "del genotype_length, genotype_x_bounds, genotype_y_bounds, test_solution, problem_instance"
   ]
  },
  {
   "cell_type": "markdown",
   "metadata": {},
   "source": [
    "### Fitness vs Score\n",
    "You might have noticed that we switched from the term score to fitness in that last code block. We'll get into what fitness is in the lectures (if that hasn't already happened by the time you're reading this), but suffice to say for now that the fitness of our bridge is directly related to the weight it can support, and we want to maximize fitness.\n",
    "\n",
    "You may also notice solutions that have a negative fitness. This indicates that a problem constraint wasn't satisfied and the bridge required modifications in order to perform a simulation. In Assignment 1c we'll look at other approaches for assigning fitnesses to solutions that violate constraints, but for now we'll just declare them invalid and arbitrarily assign a fitness of `-100`.\n",
    "\n",
    "## Random Search Algorithm\n",
    "At this point, you basically have everything you need to write a random search algorithm! Write a loop to generate new random solutions, evaluate them, and keep track of the best solution seen so far. If you feel lost, remember to look at how we evaluated solutions in the last few cells!"
   ]
  },
  {
   "cell_type": "code",
   "execution_count": null,
   "metadata": {},
   "outputs": [],
   "source": [
    "from math import inf\n",
    "\n",
    "def random_search(number_solutions, length, x_bounds, y_bounds, problem_instance):\n",
    "    best_fitness = -inf\n",
    "    data = None\n",
    "    \n",
    "    # Search through and evaluate number_solutions different random solutions\n",
    "    \n",
    "    # For the full experiment in the next section, you will need to collect data.\n",
    "    # Feel free to ignore it for now, and you can come back to modify this function afterwards.\n",
    "    \n",
    "    return best_fitness, data\n",
    "\n",
    "# Calling your function\n",
    "with open('configs/green1a_problem.json') as file:\n",
    "    print(random_search(number_solutions=5000, length=30, \\\n",
    "                  x_bounds=[0, 150], y_bounds=[-20, 20], \\\n",
    "                  problem_instance=json.load(file)))"
   ]
  },
  {
   "attachments": {
    "image-2.png": {
     "image/png": "[encoded data removed]"
    }
   },
   "cell_type": "markdown",
   "metadata": {},
   "source": [
    "## Full Random Search Experiment\n",
    "**IMPORTANT**: Before continuing, read the instructions here very carefully. You will need to change your function to record more data! You don't want to start your searches, wait several hours for them to finish, then find out you didn't actually record everything you need!\n",
    "\n",
    "Using the code you wrote above, restart and run a random search with 5,000 evaluations 30 times (this can take several hours of computation). For each of the 30 runs, record the highest fitness encountered during the run. This data will be used later for statistical analysis.\n",
    "\n",
    "For the bridge with the highest fitness across all runs, plot the bridge within this cell. Example code for visualizing can be found earlier in this notebook.\n",
    "\n",
    "For the run that produced the highest fitness of all 30 runs, record data to produce a stairstep plot demonstrating the progress of this run as the search was performed. For reference, the stairstep plot should look something like the following:\n",
    "\n",
    "![image-2.png](attachment:image-2.png)\n",
    "\n",
    "To reiterate, you will need:\n",
    "* The highest fitness encountered in each run\n",
    "    * 30 numbers, 1 per run\n",
    "* The output of `plot_bridge()` of the best bridge in the experiment\n",
    "* Data for generating the stairstep plot\n",
    "    * Generated from the run that produced your best bridge\n",
    "        * HINT: You can NOT determine which run that should be before recording this data -- the run would already be finished!\n",
    "    * What this data should be, and how to record it, is left for you to decide. We will accept anything that can produce a complete & correct plot.\n",
    "\n",
    "It is up to you to determine how to record and store the necessary data. You are also welcome to generate the stairstep graph using whatever software you like, though we recommend using `matplotlib`. Excel also works, but it gets very tedious using it for every dataset for every assignment."
   ]
  },
  {
   "cell_type": "code",
   "execution_count": null,
   "metadata": {},
   "outputs": [],
   "source": [
    "number_of_runs = 30\n",
    "\n",
    "with open('configs/green1a_problem.json') as file:\n",
    "    problem = json.load(file)\n",
    "\n",
    "# Sample function call:\n",
    "# random_search(number_solutions=5000, length=30, \\\n",
    "#         x_bounds=[0, 150], y_bounds=[-20, 20], \\\n",
    "#         problem_instance=problem)\n",
    "\n",
    "\n",
    "# Write your random search experiment here and record metrics as described above"
   ]
  },
  {
   "cell_type": "markdown",
   "metadata": {},
   "source": [
    "## Report\n",
    "Now that you've completed the implementation of random search, use the data you've generated to create the report requested in the assignment description document."
   ]
  }
 ],
 "metadata": {
  "kernelspec": {
   "display_name": "Python 3",
   "language": "python",
   "name": "python3"
  },
  "language_info": {
   "codemirror_mode": {
    "name": "ipython",
    "version": 3
   },
   "file_extension": ".py",
   "mimetype": "text/x-python",
   "name": "python",
   "nbconvert_exporter": "python",
   "pygments_lexer": "ipython3",
   "version": "3.8.8"
  }
 },
 "nbformat": 4,
 "nbformat_minor": 4
}
